{
 "cells": [
  {
   "cell_type": "markdown",
   "id": "b1ee85b9",
   "metadata": {},
   "source": [
    "# Implementation of TD3 \n",
    "\n",
    "Reference paper:\n",
    "\n",
    "[1] Fujimoto, S., van Hoof, H., & Meger, D. (2018). Addressing function approximation error in actor-critic methods. arXiv. https://arxiv.org/abs/1802.09477"
   ]
  }
 ],
 "metadata": {
  "language_info": {
   "name": "python"
  }
 },
 "nbformat": 4,
 "nbformat_minor": 5
}
